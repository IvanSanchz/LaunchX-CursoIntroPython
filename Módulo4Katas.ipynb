{
  "cells": [
    {
      "cell_type": "markdown",
      "metadata": {},
      "source": [
        "# **Módulo 4 Kata**\n",
        "### Nombre: Sánchez Sánchez Jaime Iván"
      ]
    },
    {
      "cell_type": "markdown",
      "metadata": {},
      "source": [
        "# Ejercicio 1: Transformar cadenas\n",
        "Hay varias operaciones que puedes realizar en las cadenas cuando las manipulamos. En este ejercicio, usarás métodos de cadena para modificar el texto con hechos sobre la Luna y luego extraerás información para crear un breve resumen.\n",
        "\n",
        "> **Nota**\n",
        "> Dedica unos minutos a tratar de encontrar una solución. Luego desplázate hacia abajo hasta la parte inferior para ver si has logrado compilar el programa de acuerdo con las especificaciones."
      ]
    },
    {
      "cell_type": "markdown",
      "metadata": {},
      "source": [
        "El texto con el que trabajarás es el siguiente: "
      ]
    },
    {
      "cell_type": "code",
      "execution_count": null,
      "metadata": {},
      "outputs": [],
      "source": [
        "text = \"\"\"Interesting facts about the Moon. The Moon is Earth's only satellite. There are several interesting facts about the Moon and how it affects life here on Earth. \n",
        "On average, the Moon moves 4cm away from the Earth every year. This yearly drift is not significant enough to cause immediate effects on Earth. The highest daylight temperature of the Moon is 127 C.\"\"\""
      ]
    },
    {
      "cell_type": "markdown",
      "metadata": {},
      "source": [
        "Primero, divide el texto en cada oración para trabajar con su contenido:"
      ]
    },
    {
      "cell_type": "code",
      "execution_count": 19,
      "metadata": {},
      "outputs": [
        {
          "data": {
            "text/plain": [
              "['Interesting facts about the Moon',\n",
              " \" The Moon is Earth's only satellite\",\n",
              " ' There are several interesting facts about the Moon and how it affects life here on Earth',\n",
              " ' \\nOn average, the Moon moves 4cm away from the Earth every year',\n",
              " ' This yearly drift is not significant enough to cause immediate effects on Earth',\n",
              " ' The highest daylight temperature of the Moon is 127 C',\n",
              " '']"
            ]
          },
          "execution_count": 19,
          "metadata": {},
          "output_type": "execute_result"
        }
      ],
      "source": [
        "# Añade el código necesario\n",
        "text = \"\"\"Interesting facts about the Moon. The Moon is Earth's only satellite. There are several interesting facts about the Moon and how it affects life here on Earth. \n",
        "On average, the Moon moves 4cm away from the Earth every year. This yearly drift is not significant enough to cause immediate effects on Earth. The highest daylight temperature of the Moon is 127 C.\"\"\"\n",
        "\n",
        "DivideText = text.split('.')\n",
        "\n",
        "DivideText"
      ]
    },
    {
      "cell_type": "markdown",
      "metadata": {},
      "source": [
        "Ahora, define algunas palabras clave para búsqueda que te ayudarán a determinar si una oración contiene un hecho."
      ]
    },
    {
      "cell_type": "code",
      "execution_count": 20,
      "metadata": {},
      "outputs": [],
      "source": [
        "# Define las palabras pista: average, temperature y distance suenan bien\n",
        "text = \"\"\"Interesting facts about the Moon. The Moon is Earth's only satellite. There are several interesting facts about the Moon and how it affects life here on Earth. \n",
        "On average, the Moon moves 4cm away from the Earth every year. This yearly drift is not significant enough to cause immediate effects on Earth. The highest daylight temperature of the Moon is 127 C.\"\"\"\n",
        "\n",
        "DivideText = text.split('.')\n",
        "\n",
        "KeyWords = ['temperature','average','centimeters']"
      ]
    },
    {
      "cell_type": "markdown",
      "metadata": {},
      "source": [
        "Cre un bucle para imprimir solo datos sobre la Luna que estén relacionados con las palabras clave definidas anteriormente:"
      ]
    },
    {
      "cell_type": "code",
      "execution_count": 21,
      "metadata": {},
      "outputs": [
        {
          "name": "stdout",
          "output_type": "stream",
          "text": [
            " \n",
            "On average, the Moon moves 4cm away from the Earth every year\n",
            " The highest daylight temperature of the Moon is 127 C\n"
          ]
        }
      ],
      "source": [
        "# Ciclo for para recorrer la cadena\n",
        "for x in DivideText:\n",
        "    for Word in KeyWords:\n",
        "        if Word in x:\n",
        "            print(x)\n",
        "            break"
      ]
    },
    {
      "cell_type": "markdown",
      "metadata": {},
      "source": [
        "Finalmente, actualiza el bucle(ciclo) para cambiar _C_ a _Celsius_:"
      ]
    },
    {
      "cell_type": "code",
      "execution_count": 25,
      "metadata": {},
      "outputs": [
        {
          "name": "stdout",
          "output_type": "stream",
          "text": [
            "Interesting facts about the Moon\n",
            " The Moon is Earth's only satellite\n",
            " There are several interesting facts about the Moon and how it affects life here on Earth\n",
            " \n",
            "On average, the Moon moves 4cm away from the Earth every year\n",
            " This yearly drift is not significant enough to cause immediate effects on Earth\n",
            " The highest daylight temperature of the Moon is 127 Celsius\n",
            "\n"
          ]
        }
      ],
      "source": [
        "# Ciclo para cambiar C a Celsius\n",
        "for x in DivideText:\n",
        "    for Word in KeyWords:\n",
        "        if x in DivideText:\n",
        "            print(x.replace(' C', ' Celsius'))\n",
        "            break"
      ]
    },
    {
      "cell_type": "markdown",
      "metadata": {},
      "source": [
        "> Recuerda: Lo importante es intentarlo, puedes auxiliarte de internet, libros, etc. El objetivo de una kata es la comprobación de la comprensión de la lección y su aplicación inmediata a la resolución de problemas. Go for it!"
      ]
    },
    {
      "cell_type": "markdown",
      "metadata": {},
      "source": [
        "# Ejercicio 2: Formateando Cadenas\n",
        "\n",
        "Saber cómo dar formato a las cadenas es esencial cuando se presenta información de un programa. Hay algunas maneras diferentes de lograr esto en Python. En este ejercicio, se utilizan variables que contienen datos clave sobre la gravedad en varias lunas y luego se utilizan para dar formato e imprimir la información.\n",
        "\n",
        "El formato tiene que acomodar información sobre otras lunas, por lo que debe ser genérico.\n",
        "\n",
        "En lugar de reemplazar las variables en una cadena larga como parte de un párrafo, utiliza la información para presentarla en un formato tabular. El resultado debería verse así:\n",
        "\n",
        "```\n",
        "Gravity Facts about Ganymede\n",
        "-------------------------------------------------------------------------------\n",
        "Planet Name: Mars\n",
        "Gravity on Ganymede: 1.4300000000000002 m/s2\n",
        "```"
      ]
    },
    {
      "cell_type": "code",
      "execution_count": 27,
      "metadata": {},
      "outputs": [],
      "source": [
        "# Datos con los que vas a trabajar\n",
        "name = \"Moon\"\n",
        "gravity = 0.00162 # in kms\n",
        "planet = \"Earth\""
      ]
    },
    {
      "cell_type": "markdown",
      "metadata": {},
      "source": [
        "Primero, crea un título para el texto. Debido a que este texto trata sobre la gravedad en la Tierra y la Luna, úsalo para crear un título significativo. Utiliza las variables en lugar de escribir."
      ]
    },
    {
      "cell_type": "code",
      "execution_count": 26,
      "metadata": {},
      "outputs": [
        {
          "data": {
            "text/plain": [
              "'The Gravity Facts About The Earth And The Moon'"
            ]
          },
          "execution_count": 26,
          "metadata": {},
          "output_type": "execute_result"
        }
      ],
      "source": [
        "# Creamos el título\n",
        "Heading = 'The Gravity Facts about the Earth and the Moon'\n",
        "Heading.title()"
      ]
    },
    {
      "cell_type": "markdown",
      "metadata": {},
      "source": [
        "Ahora crea una plantilla de cadena multilínea para contener el resto de la información. En lugar de usar kilómetros, debes convertir la distancia a metros multiplicando por 1,000."
      ]
    },
    {
      "cell_type": "code",
      "execution_count": 29,
      "metadata": {},
      "outputs": [],
      "source": [
        "# Creamos la plantilla\n",
        "Info = f\"\"\"{'-'*80}\n",
        "Planet name: {planet}\n",
        "Gravity on {name}: {gravity * 1000} m/s^2\n",
        "\"\"\""
      ]
    },
    {
      "cell_type": "markdown",
      "metadata": {},
      "source": [
        "Finalmente, usa ambas variables para unir el título y los hechos."
      ]
    },
    {
      "cell_type": "code",
      "execution_count": 31,
      "metadata": {},
      "outputs": [
        {
          "name": "stdout",
          "output_type": "stream",
          "text": [
            "The Gravity Facts About The Earth And The Moon\n",
            "--------------------------------------------------------------------------------\n",
            "Planet name: Earth\n",
            "Gravity on Moon: 1.6199999999999999 m/s^2\n",
            "\n",
            "\n"
          ]
        }
      ],
      "source": [
        "# Unión de ambas cadenas\n",
        "Heading = 'The Gravity Facts about the Earth and the Moon'\n",
        "Heading.title()\n",
        "\n",
        "Info = f\"\"\"{'-'*80}\n",
        "Planet name: {planet}\n",
        "Gravity on {name}: {gravity * 1000} m/s^2\n",
        "\"\"\"\n",
        "\n",
        "string_union = f\"\"\"{Heading.title()}\n",
        "{Info}\n",
        "\"\"\"\n",
        "print(string_union)"
      ]
    },
    {
      "cell_type": "markdown",
      "metadata": {},
      "source": [
        "Ahora usa información de una luna diferente para ver si la plantilla todavía funciona.\n",
        "\n",
        "Datos muestra: \n",
        "```\n",
        "planeta = 'Marte '\n",
        "gravedad  = 0.00143\n",
        "nombre = 'Ganímedes'\n",
        "```"
      ]
    },
    {
      "cell_type": "code",
      "execution_count": 34,
      "metadata": {},
      "outputs": [
        {
          "name": "stdout",
          "output_type": "stream",
          "text": [
            "The Gravity Facts About The Mars And Ganymede\n",
            "--------------------------------------------------------------------------------\n",
            "Planet name: Mars\n",
            "Gravity on Ganymede: 1.4300000000000002 m/s^2\n",
            "\n",
            "\n"
          ]
        }
      ],
      "source": [
        "# Comprueba la plantilla\n",
        "# print(nombre_plantilla)\n",
        "planet = 'Mars'\n",
        "gravity = 0.00143\n",
        "name = 'Ganymede'\n",
        "\n",
        "Heading = 'The Gravity Facts about the Mars and Ganymede'\n",
        "Heading.title()\n",
        "\n",
        "Info = f\"\"\"{'-'*80}\n",
        "Planet name: {planet}\n",
        "Gravity on {name}: {gravity * 1000} m/s^2\n",
        "\"\"\"\n",
        "\n",
        "string_union = f\"\"\"{Heading.title()}\n",
        "{Info}\n",
        "\"\"\"\n",
        "print(string_union)"
      ]
    },
    {
      "cell_type": "markdown",
      "metadata": {},
      "source": [
        "La salida no muestra información sobre Marte. Todavía muestra información sobre la Luna. Esto sucede porque las cadenas f están ansiosas en su evaluación, por lo que las variables una vez asignadas no se pueden reasignar. Para evitar este problema, vuelva a hacer la plantilla para utilizar .format():"
      ]
    },
    {
      "cell_type": "code",
      "execution_count": 39,
      "metadata": {},
      "outputs": [
        {
          "name": "stdout",
          "output_type": "stream",
          "text": [
            "\n",
            "Facts about the gravity of Ganymede\n",
            "-----------------------------------------------\n",
            "Name of the planet: Mars\n",
            "Gravity of Ganymede: 1.4300000000000002 m/s^2\n",
            "\n"
          ]
        }
      ],
      "source": [
        "# Nueva plantilla\n",
        "planet = 'Mars'\n",
        "gravity = 0.00143\n",
        "name = 'Ganymede'\n",
        "\n",
        "Template = \"\"\"\n",
        "Facts about the gravity of {name}\n",
        "-----------------------------------------------\n",
        "Name of the planet: {planet}\n",
        "Gravity of {name}: {gravity} m/s^2\n",
        "\"\"\"\n",
        "print(Template.format(name=name, planet=planet, gravity=gravity*1000))"
      ]
    },
    {
      "cell_type": "markdown",
      "metadata": {},
      "source": [
        "Debido a que .format() no permite expresiones, la gravedad en Ganímedes es incorrecta. Asegúrese de que la operación se realiza fuera de la plantilla de formato e imprima de nuevo para ver el resultado de trabajo."
      ]
    },
    {
      "cell_type": "code",
      "execution_count": 42,
      "metadata": {},
      "outputs": [
        {
          "name": "stdout",
          "output_type": "stream",
          "text": [
            "\n",
            "Facts about the gravity of Ganymede\n",
            "-----------------------------------------------\n",
            "Name of the planet: Mars\n",
            "Gravity of Ganymede: 1.4300000000000002 m/s^2\n",
            "\n"
          ]
        }
      ],
      "source": [
        "# Pista: print(nueva_plantilla.format(variables))\n",
        "planet = 'Mars'\n",
        "gravity = 0.00143\n",
        "name = 'Ganymede'\n",
        "\n",
        "Template = \"\"\"\n",
        "Facts about the gravity of {name}\n",
        "-----------------------------------------------\n",
        "Name of the planet: {planet}\n",
        "Gravity of {name}: {gravity} m/s^2\n",
        "\"\"\"\n",
        "print(Template.format(name=name, planet=planet, gravity=gravity*1000))"
      ]
    },
    {
      "cell_type": "markdown",
      "metadata": {},
      "source": [
        "## Soluciones"
      ]
    },
    {
      "cell_type": "markdown",
      "metadata": {},
      "source": [
        "## Ejercicio 1"
      ]
    },
    {
      "cell_type": "code",
      "execution_count": 17,
      "metadata": {},
      "outputs": [
        {
          "data": {
            "text/plain": [
              "['Interesting facts about the Moon',\n",
              " \"The Moon is Earth's only satellite\",\n",
              " 'There are several interesting facts about the Moon and how it affects life here on Earth',\n",
              " '\\nOn average, the Moon moves 4cm away from the Earth every year',\n",
              " 'This yearly drift is not significant enough to cause immediate effects on Earth',\n",
              " 'The highest daylight temperature of the Moon is 127 C.']"
            ]
          },
          "execution_count": 17,
          "metadata": {},
          "output_type": "execute_result"
        }
      ],
      "source": [
        "# Divide el texto\n",
        "text_parts = text.split('. ')\n",
        "text_parts"
      ]
    },
    {
      "cell_type": "code",
      "execution_count": 16,
      "metadata": {},
      "outputs": [],
      "source": [
        "# Palabras clave\n",
        "key_words = [\"average\", \"temperature\", \"distance\"]"
      ]
    },
    {
      "cell_type": "code",
      "execution_count": 15,
      "metadata": {},
      "outputs": [
        {
          "ename": "NameError",
          "evalue": "name 'text_parts' is not defined",
          "output_type": "error",
          "traceback": [
            "\u001b[1;31m---------------------------------------------------------------------------\u001b[0m",
            "\u001b[1;31mNameError\u001b[0m                                 Traceback (most recent call last)",
            "\u001b[1;32md:\\Program Files (My Epic Version)\\Quick Access\\Documents\\2_My Other Epic Projects\\Visual Studio code\\LaunchX\\Módulo 4 - Cadenas\\Módulo4Katas.ipynb Cell 31'\u001b[0m in \u001b[0;36m<module>\u001b[1;34m\u001b[0m\n\u001b[0;32m      <a href='vscode-notebook-cell:/d%3A/Program%20Files%20%28My%20Epic%20Version%29/Quick%20Access/Documents/2_My%20Other%20Epic%20Projects/Visual%20Studio%20code/LaunchX/M%C3%B3dulo%204%20-%20Cadenas/M%C3%B3dulo4Katas.ipynb#ch0000030?line=0'>1</a>\u001b[0m \u001b[39m# Ciclo for para recorrer la cadena\u001b[39;00m\n\u001b[1;32m----> <a href='vscode-notebook-cell:/d%3A/Program%20Files%20%28My%20Epic%20Version%29/Quick%20Access/Documents/2_My%20Other%20Epic%20Projects/Visual%20Studio%20code/LaunchX/M%C3%B3dulo%204%20-%20Cadenas/M%C3%B3dulo4Katas.ipynb#ch0000030?line=1'>2</a>\u001b[0m \u001b[39mfor\u001b[39;00m sentence \u001b[39min\u001b[39;00m text_parts:\n\u001b[0;32m      <a href='vscode-notebook-cell:/d%3A/Program%20Files%20%28My%20Epic%20Version%29/Quick%20Access/Documents/2_My%20Other%20Epic%20Projects/Visual%20Studio%20code/LaunchX/M%C3%B3dulo%204%20-%20Cadenas/M%C3%B3dulo4Katas.ipynb#ch0000030?line=2'>3</a>\u001b[0m     \u001b[39mfor\u001b[39;00m key_word \u001b[39min\u001b[39;00m key_words:\n\u001b[0;32m      <a href='vscode-notebook-cell:/d%3A/Program%20Files%20%28My%20Epic%20Version%29/Quick%20Access/Documents/2_My%20Other%20Epic%20Projects/Visual%20Studio%20code/LaunchX/M%C3%B3dulo%204%20-%20Cadenas/M%C3%B3dulo4Katas.ipynb#ch0000030?line=3'>4</a>\u001b[0m         \u001b[39mif\u001b[39;00m key_word \u001b[39min\u001b[39;00m sentence:\n",
            "\u001b[1;31mNameError\u001b[0m: name 'text_parts' is not defined"
          ]
        }
      ],
      "source": [
        "# Ciclo for para recorrer la cadena\n",
        "for sentence in text_parts:\n",
        "    for key_word in key_words:\n",
        "        if key_word in sentence:\n",
        "            print(sentence)\n",
        "            break"
      ]
    },
    {
      "cell_type": "code",
      "execution_count": 14,
      "metadata": {},
      "outputs": [
        {
          "ename": "NameError",
          "evalue": "name 'text_parts' is not defined",
          "output_type": "error",
          "traceback": [
            "\u001b[1;31m---------------------------------------------------------------------------\u001b[0m",
            "\u001b[1;31mNameError\u001b[0m                                 Traceback (most recent call last)",
            "\u001b[1;32md:\\Program Files (My Epic Version)\\Quick Access\\Documents\\2_My Other Epic Projects\\Visual Studio code\\LaunchX\\Módulo 4 - Cadenas\\Módulo4Katas.ipynb Cell 32'\u001b[0m in \u001b[0;36m<module>\u001b[1;34m\u001b[0m\n\u001b[0;32m      <a href='vscode-notebook-cell:/d%3A/Program%20Files%20%28My%20Epic%20Version%29/Quick%20Access/Documents/2_My%20Other%20Epic%20Projects/Visual%20Studio%20code/LaunchX/M%C3%B3dulo%204%20-%20Cadenas/M%C3%B3dulo4Katas.ipynb#ch0000031?line=0'>1</a>\u001b[0m \u001b[39m# Ciclo para cambiar C a Celsius\u001b[39;00m\n\u001b[1;32m----> <a href='vscode-notebook-cell:/d%3A/Program%20Files%20%28My%20Epic%20Version%29/Quick%20Access/Documents/2_My%20Other%20Epic%20Projects/Visual%20Studio%20code/LaunchX/M%C3%B3dulo%204%20-%20Cadenas/M%C3%B3dulo4Katas.ipynb#ch0000031?line=1'>2</a>\u001b[0m \u001b[39mfor\u001b[39;00m sentence \u001b[39min\u001b[39;00m text_parts:\n\u001b[0;32m      <a href='vscode-notebook-cell:/d%3A/Program%20Files%20%28My%20Epic%20Version%29/Quick%20Access/Documents/2_My%20Other%20Epic%20Projects/Visual%20Studio%20code/LaunchX/M%C3%B3dulo%204%20-%20Cadenas/M%C3%B3dulo4Katas.ipynb#ch0000031?line=2'>3</a>\u001b[0m     \u001b[39mfor\u001b[39;00m key_word \u001b[39min\u001b[39;00m key_words:\n\u001b[0;32m      <a href='vscode-notebook-cell:/d%3A/Program%20Files%20%28My%20Epic%20Version%29/Quick%20Access/Documents/2_My%20Other%20Epic%20Projects/Visual%20Studio%20code/LaunchX/M%C3%B3dulo%204%20-%20Cadenas/M%C3%B3dulo4Katas.ipynb#ch0000031?line=3'>4</a>\u001b[0m         \u001b[39mif\u001b[39;00m key_word \u001b[39min\u001b[39;00m sentence:\n",
            "\u001b[1;31mNameError\u001b[0m: name 'text_parts' is not defined"
          ]
        }
      ],
      "source": [
        "# Ciclo para cambiar C a Celsius\n",
        "for sentence in text_parts:\n",
        "    for key_word in key_words:\n",
        "        if key_word in sentence:\n",
        "            print(sentence.replace(' C', ' Celsius'))\n",
        "            break"
      ]
    },
    {
      "cell_type": "markdown",
      "metadata": {},
      "source": [
        "## Ejercicio 2"
      ]
    },
    {
      "cell_type": "code",
      "execution_count": null,
      "metadata": {},
      "outputs": [],
      "source": [
        "# Datos con los que vamos a trabajar\n",
        "\n",
        "planeta = 'Marte '\n",
        "gravedad  = 0.00143\n",
        "nombre = 'Ganímedes'"
      ]
    },
    {
      "cell_type": "code",
      "execution_count": null,
      "metadata": {},
      "outputs": [],
      "source": [
        "# Creamos el título\n",
        "title = f'datos de gravedad sobre {nombre}'"
      ]
    },
    {
      "cell_type": "code",
      "execution_count": null,
      "metadata": {},
      "outputs": [],
      "source": [
        "# Creamos la plantilla\n",
        "hechos = f\"\"\"{'-'*80} \n",
        "Nombre del planeta: {planeta} \n",
        "Gravedad en {nombre}: {gravedad * 1000} m/s2 \n",
        "\"\"\""
      ]
    },
    {
      "cell_type": "code",
      "execution_count": null,
      "metadata": {},
      "outputs": [],
      "source": [
        "# Unión de ambas cadenas\n",
        "template = f\"\"\"{title.title()} \n",
        "{hechos} \n",
        "\"\"\" \n",
        "print(hechos)"
      ]
    },
    {
      "cell_type": "code",
      "execution_count": null,
      "metadata": {},
      "outputs": [],
      "source": [
        "# Nuevos datos muestra\n",
        "planeta = 'Marte '\n",
        "gravedad  = 0.00143\n",
        "nombre = 'Ganímedes'"
      ]
    },
    {
      "cell_type": "code",
      "execution_count": null,
      "metadata": {},
      "outputs": [],
      "source": [
        "# Comprobamos la plantilla\n",
        "print(hechos)"
      ]
    },
    {
      "cell_type": "code",
      "execution_count": null,
      "metadata": {},
      "outputs": [],
      "source": [
        "new_template = \"\"\"\n",
        "Datos de Gravedad sobre: {nombre}\n",
        "-------------------------------------------------------------------------------\n",
        "Nombre del planeta: {planeta}\n",
        "Gravedad en {nombre}: {gravedad} m/s2\n",
        "\"\"\"\n",
        "print(new_template.format(nombre=nombre, planeta=planeta, gravedad=gravedad))"
      ]
    },
    {
      "cell_type": "code",
      "execution_count": null,
      "metadata": {},
      "outputs": [],
      "source": [
        "# Pista: print(nueva_plantilla.format(variables))\n",
        "print(new_template.format(nombre=nombre, planeta=planeta, gravedad=gravedad*1000))"
      ]
    },
    {
      "cell_type": "markdown",
      "metadata": {},
      "source": [
        "Curso Propedútico de Python para Launch X - Innovacción Virtual.\n",
        "\n",
        "Material desarrollado con base en los contenidos de MSLearn y la metáfora de LaunchX, traducción e implementación por: Fernanda Ochoa - Learning Producer de LaunchX.\n",
        "\n",
        "Redes:\n",
        "* GitHub: [FernandaOchoa](https://github.com/FernandaOchoa)\n",
        "* Twitter: [@imonsh](https://twitter.com/imonsh)\n",
        "* Instagram: [fherz8a](https://www.instagram.com/fherz8a/)"
      ]
    }
  ],
  "metadata": {
    "interpreter": {
      "hash": "502cd6c3b6c9e666d195e1caff9d64ea12bf644e547a4c8fae84812082c54b6f"
    },
    "kernel_info": {
      "name": "conda-env-py37_default-py"
    },
    "kernelspec": {
      "display_name": "py37_default",
      "language": "python",
      "name": "python3"
    },
    "language_info": {
      "codemirror_mode": {
        "name": "ipython",
        "version": 3
      },
      "file_extension": ".py",
      "mimetype": "text/x-python",
      "name": "python",
      "nbconvert_exporter": "python",
      "pygments_lexer": "ipython3",
      "version": "3.10.2"
    },
    "nteract": {
      "version": "nteract-front-end@1.0.0"
    },
    "orig_nbformat": 4
  },
  "nbformat": 4,
  "nbformat_minor": 2
}
