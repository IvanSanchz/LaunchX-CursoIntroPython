{
 "cells": [
  {
   "cell_type": "markdown",
   "metadata": {},
   "source": [
    "## Programa que Muestre la fecha para mi queridísimo Oficial Superior\n",
    "\n",
    "Creado por el Cadete: Sánchez Sánchez Jaime Iván"
   ]
  },
  {
   "cell_type": "code",
   "execution_count": 1,
   "metadata": {},
   "outputs": [
    {
     "name": "stdout",
     "output_type": "stream",
     "text": [
      "Today's date is: 2022-02-07\n"
     ]
    }
   ],
   "source": [
    "from datetime import date\n",
    "\n",
    "date.today()\n",
    "\n",
    "print(\"Today's date is: \" + str(date.today()))"
   ]
  },
  {
   "cell_type": "markdown",
   "metadata": {},
   "source": [
    "## Convertidor de Unidades para mi genial Oficial superior :D\n",
    "Creado por el Cadete: Sánchez Sánchez Jaime Iván"
   ]
  },
  {
   "cell_type": "code",
   "execution_count": 11,
   "metadata": {},
   "outputs": [
    {
     "name": "stdout",
     "output_type": "stream",
     "text": [
      "1.0 parsec, is 3.26156 lightyears\n"
     ]
    }
   ],
   "source": [
    "parsec = float(input('Parsec a convertir: '))\n",
    "\n",
    "lightyears = 3.26156\n",
    "\n",
    "conversion = lightyears * parsec\n",
    "\n",
    "print(str(parsec) + \" parsec, is \" + str(conversion) + \" lightyears\")"
   ]
  }
 ],
 "metadata": {
  "interpreter": {
   "hash": "effc38f39c411d51d5faedf728ecd3a45b380e9fd0d666504bd9a3ba5a786afb"
  },
  "kernelspec": {
   "display_name": "Python 3.10.2 64-bit",
   "language": "python",
   "name": "python3"
  },
  "language_info": {
   "codemirror_mode": {
    "name": "ipython",
    "version": 3
   },
   "file_extension": ".py",
   "mimetype": "text/x-python",
   "name": "python",
   "nbconvert_exporter": "python",
   "pygments_lexer": "ipython3",
   "version": "3.10.2"
  },
  "orig_nbformat": 4
 },
 "nbformat": 4,
 "nbformat_minor": 2
}
