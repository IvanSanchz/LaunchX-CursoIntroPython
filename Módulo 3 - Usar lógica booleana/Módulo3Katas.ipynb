{
 "cells": [
  {
   "cell_type": "markdown",
   "metadata": {},
   "source": [
    "## Módulo 3 Kata\n",
    "Nombre: Sánchez Sánchez Jaime Iván"
   ]
  },
  {
   "cell_type": "markdown",
   "metadata": {},
   "source": [
    "### Ejercicio - Escribir declaraciones \"if\",\"else\" y \"elif\"\n",
    "Para este ejercicio, escribirás una lógica condicional que imprima una advertencia si un asteroide se acerca a la Tierra demasiado rápido. La velocidad del asteroide varía dependiendo de lo cerca que esté del sol, y cualquier velocidad superior a 25 kilómetros por segundo (km/s) merece una advertencia.\n",
    "\n",
    "Un asteroide se acerca, y viaja a una velocidad de 49 km/s."
   ]
  },
  {
   "cell_type": "code",
   "execution_count": 10,
   "metadata": {},
   "outputs": [
    {
     "name": "stdout",
     "output_type": "stream",
     "text": [
      "//ADVERTENCIA: EL ASTEROIDE VIAJA A UNA VELOCIDAD SUPERIOR DE 25 Km/s\n",
      "//ADVERTENCIA: EL ASTEROIDE ESTA VIAJANDO A UNA VELOCIDAD DE 49000 m/s\n"
     ]
    }
   ],
   "source": [
    "asteroid_vel = 49000\n",
    "asteroid_adv = 25000\n",
    "\n",
    "if asteroid_vel > asteroid_adv:\n",
    "    print(\"//ADVERTENCIA: EL ASTEROIDE VIAJA A UNA VELOCIDAD SUPERIOR DE 25 Km/s\")\n",
    "    print(\"//ADVERTENCIA: EL ASTEROIDE ESTA VIAJANDO A UNA VELOCIDAD DE {} m/s\".format(asteroid_vel))\n",
    "else:\n",
    "    print(\"//SEGURO: EL ASTEROIDE VIAJA A UNA VELOCIDAD SEGURA DE {} m/s //\".format(asteroid_vel))"
   ]
  },
  {
   "cell_type": "markdown",
   "metadata": {},
   "source": [
    "Si un asteroide entra en la atmósfera de la Tierra a una velocidad mayor o igual a 20 km/s, a veces produce un rayo de luz que se puede ver desde la Tierra. Escribe la lógica condicional que usa declaraciones if, else, y elif para alertar a las personas de todo el mundo que deben buscar un asteroide en el cielo. ¡Hay uno que se dirige a la tierra ahora a una velocidad de 19 km/s!"
   ]
  },
  {
   "cell_type": "code",
   "execution_count": 12,
   "metadata": {},
   "outputs": [
    {
     "name": "stdout",
     "output_type": "stream",
     "text": [
      "//EL ASTEROIDE NO SE PUEDE VER EN EL CIELO\n"
     ]
    }
   ],
   "source": [
    "asteroid_vel = 19000\n",
    "earth_atmosp = 20000\n",
    "\n",
    "if asteroid_vel > earth_atmosp:\n",
    "    print(\"//AVISO: ACTUALMENTE EL ASTEROIDE SE PUEDE VER EN EL CIELO\")\n",
    "elif asteroid_vel == earth_atmosp:\n",
    "    print(\"//AVISO: ACTUALMENTE EL ASTEROIDE SE PUEDE VER EN EL CIELO\")\n",
    "else:\n",
    "    print(\"//EL ASTEROIDE NO SE PUEDE VER EN EL CIELO\")"
   ]
  },
  {
   "cell_type": "markdown",
   "metadata": {},
   "source": [
    "### Ejercicio: Uso de operadores and y or"
   ]
  },
  {
   "cell_type": "markdown",
   "metadata": {},
   "source": [
    "En este ejercicio, aprenderás información más matizada sobre cuándo los asteroides representan un peligro para la Tierra, y utilizarás esa información para mejorar nuestro sistema de advertencia. Aquí está la nueva información que necesitas saber:\n",
    "\n",
    "*Los asteroides de menos de 25 metros en su dimensión más grande probablemente se quemarán a medida que entren en la atmósfera de la Tierra.\n",
    "\n",
    "Si una pieza de un asteroide que es más grande que 25 metros pero más pequeña que 1000 metros golpeara la Tierra, causaría mucho daño.\n",
    "También discutimos en el ejercicio anterior que:\n",
    "\n",
    "La velocidad del asteroide varía en función de lo cerca que esté del sol, y cualquier velocidad superior a 25 kilómetros por segundo (km/s) merece una advertencia.\n",
    "Si un asteroide entra en la atmósfera de la Tierra a una velocidad mayor o igual a 20 km/s, a veces produce un rayo de luz que se puede ver desde la Tierra.\n",
    "Usando toda esta información, escribe un programa que emita la advertencia o información correcta a la gente de la Tierra, según la velocidad y el tamaño de un asteroide. Utiliza instrucciones if, else, y elif, así como los operadores and y or."
   ]
  },
  {
   "cell_type": "code",
   "execution_count": 23,
   "metadata": {},
   "outputs": [
    {
     "name": "stdout",
     "output_type": "stream",
     "text": [
      "//PROGRAMA DE ALERTA E INFORMACIÓN ACERCA DE ASTEROIDES//\n",
      "\n",
      "//EL TAMAÑO Y LA VELOCIDAD ACTUAL DEL ASTEROIDE NO ES PELIGROSO\n",
      "//TAMAÑO DEL ASTEROIDE: 12 metros\n",
      "//VELOCIDAD DEL ASTEROIDE: 12 km/s\n",
      "\n",
      "//DISFRUTE DE SU DÍA :D\n"
     ]
    }
   ],
   "source": [
    "print(\"//PROGRAMA DE ALERTA E INFORMACIÓN ACERCA DE ASTEROIDES//\")\n",
    "asteroid_dim = float(input(\"Ingrese la dimensión en (metros) más grande del asteroide: \"))\n",
    "asteroid_vel = float(input(\"Ingrese la velocidad en (km/s) del asteroide: \"))\n",
    "\n",
    "if asteroid_dim > 25 and asteroid_dim < 1000:\n",
    "    if asteroid_vel >= 25:\n",
    "        print(\"\\n//ADVERTENCIA: EL ASTEROIDE TIENE UN TAMAÑO DE {:.0f} METROS Y VA A CAUSAR MUCHO DAÑO EN LA TIERRA\".format(asteroid_dim))\n",
    "        print(\"//ADVERTENCIA: EL ASTEROIDE VA A UNA VELOCIDAD SUPERIOR DE 25 km/s | SE PODRÁ VER EN EL CIELO | PERO ES UNA VELOCIDAD PELIGROSA\")\n",
    "    elif asteroid_vel >= 20 and asteroid_vel < 25:\n",
    "        print(\"\\n//ADVERTENCIA: EL ASTEROIDE TIENE UN TAMAÑO DE {:.0f} METROS Y VA A CAUSAR MUCHO DAÑO EN LA TIERRA\".format(asteroid_dim))\n",
    "        print(\"//AVISO: EL ASTEROIDE VA A UNA VELOCIDAD SUPERIOR DE 20 km/s ASI QUE SE PODRÁ VER EN EL CIELO\")\n",
    "    else:\n",
    "        print(\"\\n//ADVERTENCIA: EL ASTEROIDE TIENE UN TAMAÑO DE {:.0f} METROS Y VA A CAUSAR MUCHO DAÑO EN LA TIERRA\".format(asteroid_dim))\n",
    "        print(\"//AVISO: EL ASTEROIDE NO VA A UNA VELOCIDAD SUPERIOR DE 20 km/s ASI QUE MNO HAY NADA QUE VER EN EL CIELO\")\n",
    "else:\n",
    "    if asteroid_vel >= 25:\n",
    "        print(\"\\n//ADVERTENCIA: EL ASTEROIDE VA A UNA VELOCIDAD SUPERIOR DE 25 km/s\")\n",
    "        print(\"//AVISO: EL TAMAÑO ACTUAL DEL ASTEROIDE NO ES PELIGROSO\")\n",
    "    elif asteroid_vel >= 20 and asteroid_vel < 25:\n",
    "        print(\"\\n//AVISO: EL ASTEROIDE VA A UNA VELOCIDAD DE 20 km/s ASI QUE SE PODRÁ VER EN EL CIELO\")\n",
    "        print(\"//AVISO: EL TAMAÑO ACTUAL DEL ASTEROIDE NO ES PELIGROSO\")\n",
    "    else:\n",
    "        print(\"\\n//EL TAMAÑO Y LA VELOCIDAD ACTUAL DEL ASTEROIDE NO ES PELIGROSO\")\n",
    "        print(\"//TAMAÑO DEL ASTEROIDE: {:.0f} metros\\n//VELOCIDAD DEL ASTEROIDE: {:.0f} km/s\".format(asteroid_dim, asteroid_vel))\n",
    "        print(\"\\n//DISFRUTE DE SU DÍA :D\")\n",
    "\n",
    "\n"
   ]
  }
 ],
 "metadata": {
  "interpreter": {
   "hash": "effc38f39c411d51d5faedf728ecd3a45b380e9fd0d666504bd9a3ba5a786afb"
  },
  "kernelspec": {
   "display_name": "Python 3.10.2 64-bit",
   "language": "python",
   "name": "python3"
  },
  "language_info": {
   "codemirror_mode": {
    "name": "ipython",
    "version": 3
   },
   "file_extension": ".py",
   "mimetype": "text/x-python",
   "name": "python",
   "nbconvert_exporter": "python",
   "pygments_lexer": "ipython3",
   "version": "3.10.2"
  },
  "orig_nbformat": 4
 },
 "nbformat": 4,
 "nbformat_minor": 2
}
